{
  "nbformat": 4,
  "nbformat_minor": 0,
  "metadata": {
    "colab": {
      "provenance": [],
      "toc_visible": true,
      "gpuType": "T4",
      "authorship_tag": "ABX9TyM0pvA3ponj+PZONKEpa9Jc",
      "include_colab_link": true
    },
    "kernelspec": {
      "name": "python3",
      "display_name": "Python 3"
    },
    "language_info": {
      "name": "python"
    },
    "accelerator": "GPU",
    "widgets": {
      "application/vnd.jupyter.widget-state+json": {
        "c8db64bf0b1642518baa532131608439": {
          "model_module": "@jupyter-widgets/controls",
          "model_name": "HBoxModel",
          "model_module_version": "1.5.0",
          "state": {
            "_dom_classes": [],
            "_model_module": "@jupyter-widgets/controls",
            "_model_module_version": "1.5.0",
            "_model_name": "HBoxModel",
            "_view_count": null,
            "_view_module": "@jupyter-widgets/controls",
            "_view_module_version": "1.5.0",
            "_view_name": "HBoxView",
            "box_style": "",
            "children": [
              "IPY_MODEL_4bfb84df23c94b09997841ddd15c0f59",
              "IPY_MODEL_ef69b58f5fd945c2961067358a8a4699",
              "IPY_MODEL_fcfb672b4b0f423bb8cee8e864ec22e8"
            ],
            "layout": "IPY_MODEL_1783dd7ea589476695390deccde49b97"
          }
        },
        "4bfb84df23c94b09997841ddd15c0f59": {
          "model_module": "@jupyter-widgets/controls",
          "model_name": "HTMLModel",
          "model_module_version": "1.5.0",
          "state": {
            "_dom_classes": [],
            "_model_module": "@jupyter-widgets/controls",
            "_model_module_version": "1.5.0",
            "_model_name": "HTMLModel",
            "_view_count": null,
            "_view_module": "@jupyter-widgets/controls",
            "_view_module_version": "1.5.0",
            "_view_name": "HTMLView",
            "description": "",
            "description_tooltip": null,
            "layout": "IPY_MODEL_a3e2c872a98e430c94bcacd318100b7b",
            "placeholder": "​",
            "style": "IPY_MODEL_cd49400b43e14ce18369a4664eb643c1",
            "value": "Loading checkpoint shards: 100%"
          }
        },
        "ef69b58f5fd945c2961067358a8a4699": {
          "model_module": "@jupyter-widgets/controls",
          "model_name": "FloatProgressModel",
          "model_module_version": "1.5.0",
          "state": {
            "_dom_classes": [],
            "_model_module": "@jupyter-widgets/controls",
            "_model_module_version": "1.5.0",
            "_model_name": "FloatProgressModel",
            "_view_count": null,
            "_view_module": "@jupyter-widgets/controls",
            "_view_module_version": "1.5.0",
            "_view_name": "ProgressView",
            "bar_style": "success",
            "description": "",
            "description_tooltip": null,
            "layout": "IPY_MODEL_9fa7fef112504b519a297e2dd1959e68",
            "max": 2,
            "min": 0,
            "orientation": "horizontal",
            "style": "IPY_MODEL_af38c8b930ab478a88267022311f5773",
            "value": 2
          }
        },
        "fcfb672b4b0f423bb8cee8e864ec22e8": {
          "model_module": "@jupyter-widgets/controls",
          "model_name": "HTMLModel",
          "model_module_version": "1.5.0",
          "state": {
            "_dom_classes": [],
            "_model_module": "@jupyter-widgets/controls",
            "_model_module_version": "1.5.0",
            "_model_name": "HTMLModel",
            "_view_count": null,
            "_view_module": "@jupyter-widgets/controls",
            "_view_module_version": "1.5.0",
            "_view_name": "HTMLView",
            "description": "",
            "description_tooltip": null,
            "layout": "IPY_MODEL_124cdbb20e2942ac846780f4b54b115b",
            "placeholder": "​",
            "style": "IPY_MODEL_ab7d2eb9e7714fda871005ebe0ce4cee",
            "value": " 2/2 [00:33&lt;00:00, 15.92s/it]"
          }
        },
        "1783dd7ea589476695390deccde49b97": {
          "model_module": "@jupyter-widgets/base",
          "model_name": "LayoutModel",
          "model_module_version": "1.2.0",
          "state": {
            "_model_module": "@jupyter-widgets/base",
            "_model_module_version": "1.2.0",
            "_model_name": "LayoutModel",
            "_view_count": null,
            "_view_module": "@jupyter-widgets/base",
            "_view_module_version": "1.2.0",
            "_view_name": "LayoutView",
            "align_content": null,
            "align_items": null,
            "align_self": null,
            "border": null,
            "bottom": null,
            "display": null,
            "flex": null,
            "flex_flow": null,
            "grid_area": null,
            "grid_auto_columns": null,
            "grid_auto_flow": null,
            "grid_auto_rows": null,
            "grid_column": null,
            "grid_gap": null,
            "grid_row": null,
            "grid_template_areas": null,
            "grid_template_columns": null,
            "grid_template_rows": null,
            "height": null,
            "justify_content": null,
            "justify_items": null,
            "left": null,
            "margin": null,
            "max_height": null,
            "max_width": null,
            "min_height": null,
            "min_width": null,
            "object_fit": null,
            "object_position": null,
            "order": null,
            "overflow": null,
            "overflow_x": null,
            "overflow_y": null,
            "padding": null,
            "right": null,
            "top": null,
            "visibility": null,
            "width": null
          }
        },
        "a3e2c872a98e430c94bcacd318100b7b": {
          "model_module": "@jupyter-widgets/base",
          "model_name": "LayoutModel",
          "model_module_version": "1.2.0",
          "state": {
            "_model_module": "@jupyter-widgets/base",
            "_model_module_version": "1.2.0",
            "_model_name": "LayoutModel",
            "_view_count": null,
            "_view_module": "@jupyter-widgets/base",
            "_view_module_version": "1.2.0",
            "_view_name": "LayoutView",
            "align_content": null,
            "align_items": null,
            "align_self": null,
            "border": null,
            "bottom": null,
            "display": null,
            "flex": null,
            "flex_flow": null,
            "grid_area": null,
            "grid_auto_columns": null,
            "grid_auto_flow": null,
            "grid_auto_rows": null,
            "grid_column": null,
            "grid_gap": null,
            "grid_row": null,
            "grid_template_areas": null,
            "grid_template_columns": null,
            "grid_template_rows": null,
            "height": null,
            "justify_content": null,
            "justify_items": null,
            "left": null,
            "margin": null,
            "max_height": null,
            "max_width": null,
            "min_height": null,
            "min_width": null,
            "object_fit": null,
            "object_position": null,
            "order": null,
            "overflow": null,
            "overflow_x": null,
            "overflow_y": null,
            "padding": null,
            "right": null,
            "top": null,
            "visibility": null,
            "width": null
          }
        },
        "cd49400b43e14ce18369a4664eb643c1": {
          "model_module": "@jupyter-widgets/controls",
          "model_name": "DescriptionStyleModel",
          "model_module_version": "1.5.0",
          "state": {
            "_model_module": "@jupyter-widgets/controls",
            "_model_module_version": "1.5.0",
            "_model_name": "DescriptionStyleModel",
            "_view_count": null,
            "_view_module": "@jupyter-widgets/base",
            "_view_module_version": "1.2.0",
            "_view_name": "StyleView",
            "description_width": ""
          }
        },
        "9fa7fef112504b519a297e2dd1959e68": {
          "model_module": "@jupyter-widgets/base",
          "model_name": "LayoutModel",
          "model_module_version": "1.2.0",
          "state": {
            "_model_module": "@jupyter-widgets/base",
            "_model_module_version": "1.2.0",
            "_model_name": "LayoutModel",
            "_view_count": null,
            "_view_module": "@jupyter-widgets/base",
            "_view_module_version": "1.2.0",
            "_view_name": "LayoutView",
            "align_content": null,
            "align_items": null,
            "align_self": null,
            "border": null,
            "bottom": null,
            "display": null,
            "flex": null,
            "flex_flow": null,
            "grid_area": null,
            "grid_auto_columns": null,
            "grid_auto_flow": null,
            "grid_auto_rows": null,
            "grid_column": null,
            "grid_gap": null,
            "grid_row": null,
            "grid_template_areas": null,
            "grid_template_columns": null,
            "grid_template_rows": null,
            "height": null,
            "justify_content": null,
            "justify_items": null,
            "left": null,
            "margin": null,
            "max_height": null,
            "max_width": null,
            "min_height": null,
            "min_width": null,
            "object_fit": null,
            "object_position": null,
            "order": null,
            "overflow": null,
            "overflow_x": null,
            "overflow_y": null,
            "padding": null,
            "right": null,
            "top": null,
            "visibility": null,
            "width": null
          }
        },
        "af38c8b930ab478a88267022311f5773": {
          "model_module": "@jupyter-widgets/controls",
          "model_name": "ProgressStyleModel",
          "model_module_version": "1.5.0",
          "state": {
            "_model_module": "@jupyter-widgets/controls",
            "_model_module_version": "1.5.0",
            "_model_name": "ProgressStyleModel",
            "_view_count": null,
            "_view_module": "@jupyter-widgets/base",
            "_view_module_version": "1.2.0",
            "_view_name": "StyleView",
            "bar_color": null,
            "description_width": ""
          }
        },
        "124cdbb20e2942ac846780f4b54b115b": {
          "model_module": "@jupyter-widgets/base",
          "model_name": "LayoutModel",
          "model_module_version": "1.2.0",
          "state": {
            "_model_module": "@jupyter-widgets/base",
            "_model_module_version": "1.2.0",
            "_model_name": "LayoutModel",
            "_view_count": null,
            "_view_module": "@jupyter-widgets/base",
            "_view_module_version": "1.2.0",
            "_view_name": "LayoutView",
            "align_content": null,
            "align_items": null,
            "align_self": null,
            "border": null,
            "bottom": null,
            "display": null,
            "flex": null,
            "flex_flow": null,
            "grid_area": null,
            "grid_auto_columns": null,
            "grid_auto_flow": null,
            "grid_auto_rows": null,
            "grid_column": null,
            "grid_gap": null,
            "grid_row": null,
            "grid_template_areas": null,
            "grid_template_columns": null,
            "grid_template_rows": null,
            "height": null,
            "justify_content": null,
            "justify_items": null,
            "left": null,
            "margin": null,
            "max_height": null,
            "max_width": null,
            "min_height": null,
            "min_width": null,
            "object_fit": null,
            "object_position": null,
            "order": null,
            "overflow": null,
            "overflow_x": null,
            "overflow_y": null,
            "padding": null,
            "right": null,
            "top": null,
            "visibility": null,
            "width": null
          }
        },
        "ab7d2eb9e7714fda871005ebe0ce4cee": {
          "model_module": "@jupyter-widgets/controls",
          "model_name": "DescriptionStyleModel",
          "model_module_version": "1.5.0",
          "state": {
            "_model_module": "@jupyter-widgets/controls",
            "_model_module_version": "1.5.0",
            "_model_name": "DescriptionStyleModel",
            "_view_count": null,
            "_view_module": "@jupyter-widgets/base",
            "_view_module_version": "1.2.0",
            "_view_name": "StyleView",
            "description_width": ""
          }
        }
      }
    }
  },
  "cells": [
    {
      "cell_type": "markdown",
      "metadata": {
        "id": "view-in-github",
        "colab_type": "text"
      },
      "source": [
        "<a href=\"https://colab.research.google.com/github/Arjun9271/Hands_on_llms/blob/main/chapter_1.ipynb\" target=\"_parent\"><img src=\"https://colab.research.google.com/assets/colab-badge.svg\" alt=\"Open In Colab\"/></a>"
      ]
    },
    {
      "cell_type": "markdown",
      "source": [
        "# Hands on Large Language Models"
      ],
      "metadata": {
        "id": "LllLVU5IuaY0"
      }
    },
    {
      "cell_type": "markdown",
      "source": [
        "##  Generating our first text:\n",
        "\n",
        "Generating Our First Text Using LLMs (Actual Code)\n",
        "\n",
        "Using ChatGPT is like working with a black box—you can't see what's happening inside.\n",
        "\n",
        "Let's open that black box and explore what's actually happening inside it."
      ],
      "metadata": {
        "id": "njJ_Aaywug5_"
      }
    },
    {
      "cell_type": "markdown",
      "source": [
        "## Hugging face:\n",
        "\n",
        "It's the hub where we can find almost any open-source LLMs"
      ],
      "metadata": {
        "id": "9kTVhepEuoTQ"
      }
    },
    {
      "cell_type": "markdown",
      "source": [
        "## large language models:\n",
        "\n",
        "### Types of Large Language Models:\n",
        "\n",
        "1. Representative Models - Convert language into numerical values\n",
        "2. Generative Models - Generate text or language output"
      ],
      "metadata": {
        "id": "sUnWYMXvutzs"
      }
    },
    {
      "cell_type": "markdown",
      "source": [
        "### **Generative Models:**\n",
        "\n",
        "In this example : we are using the  **Phi-3-mini-4k-instruct**[3.8B parameters]  relatively small compare to the gpt-3\n",
        "\n",
        "4k- context length\n",
        "\n",
        "Tokenizer: Phi-3 Mini-4k-Instruct supports a vocabulary size of 32064 tokens"
      ],
      "metadata": {
        "id": "RFC_BD_YuwY8"
      }
    },
    {
      "cell_type": "code",
      "execution_count": 1,
      "metadata": {
        "id": "GCIfOP4lt4n_"
      },
      "outputs": [],
      "source": [
        "!pip install transformers>=4.40.1 accelerate>=0.27.2"
      ]
    },
    {
      "cell_type": "code",
      "source": [
        "from transformers import AutoModelForCausalLM, AutoTokenizer\n",
        "\n",
        "# Load model and tokenizer\n",
        "model = AutoModelForCausalLM.from_pretrained(\n",
        "    \"microsoft/Phi-3-mini-4k-instruct\",   # we are loding automatically from pretrained\n",
        "    device_map=\"cuda\",\n",
        "    torch_dtype=\"auto\",\n",
        "    trust_remote_code=True,\n",
        ")\n",
        "tokenizer = AutoTokenizer.from_pretrained(\"microsoft/Phi-3-mini-4k-instruct\") # tokenizer default"
      ],
      "metadata": {
        "colab": {
          "base_uri": "https://localhost:8080/",
          "height": 49,
          "referenced_widgets": [
            "c8db64bf0b1642518baa532131608439",
            "4bfb84df23c94b09997841ddd15c0f59",
            "ef69b58f5fd945c2961067358a8a4699",
            "fcfb672b4b0f423bb8cee8e864ec22e8",
            "1783dd7ea589476695390deccde49b97",
            "a3e2c872a98e430c94bcacd318100b7b",
            "cd49400b43e14ce18369a4664eb643c1",
            "9fa7fef112504b519a297e2dd1959e68",
            "af38c8b930ab478a88267022311f5773",
            "124cdbb20e2942ac846780f4b54b115b",
            "ab7d2eb9e7714fda871005ebe0ce4cee"
          ]
        },
        "id": "44sZmxxYu3KG",
        "outputId": "b7f3513d-5bcb-46b9-9a3f-40f9a875f288"
      },
      "execution_count": 3,
      "outputs": [
        {
          "output_type": "display_data",
          "data": {
            "text/plain": [
              "Loading checkpoint shards:   0%|          | 0/2 [00:00<?, ?it/s]"
            ],
            "application/vnd.jupyter.widget-view+json": {
              "version_major": 2,
              "version_minor": 0,
              "model_id": "c8db64bf0b1642518baa532131608439"
            }
          },
          "metadata": {}
        }
      ]
    },
    {
      "cell_type": "code",
      "source": [
        "# print the tokenizer's vocab size\n",
        "\n",
        "print(f\"vacabulary size: {tokenizer.vocab_size}\")"
      ],
      "metadata": {
        "colab": {
          "base_uri": "https://localhost:8080/"
        },
        "id": "Suz8R6lFvddc",
        "outputId": "fbbc7072-6de5-47b9-8ebf-9b5cddde59d0"
      },
      "execution_count": 4,
      "outputs": [
        {
          "output_type": "stream",
          "name": "stdout",
          "text": [
            "vacabulary size: 32000\n"
          ]
        }
      ]
    },
    {
      "cell_type": "code",
      "source": [
        "# testing the tokenizer with some example words\n",
        "\n",
        "words = [\"llms\",\"are\",\"just\",\"awesome\"]\n",
        "for word in words:\n",
        "      print(f\"tokenized :'{word}':{tokenizer.encode(word)}\")"
      ],
      "metadata": {
        "colab": {
          "base_uri": "https://localhost:8080/"
        },
        "id": "3cmhS3yTvdaE",
        "outputId": "c530cca0-b498-4518-8a79-304b9d1e8fd0"
      },
      "execution_count": 6,
      "outputs": [
        {
          "output_type": "stream",
          "name": "stdout",
          "text": [
            "tokenized :'llms':[11148, 1516]\n",
            "tokenized :'are':[526]\n",
            "tokenized :'just':[925]\n",
            "tokenized :'awesome':[29663]\n"
          ]
        }
      ]
    },
    {
      "cell_type": "markdown",
      "source": [
        "- it's a subword tokenizer"
      ],
      "metadata": {
        "id": "za2ga-HIxVYW"
      }
    },
    {
      "cell_type": "code",
      "source": [
        "# testing the tokenizer with a sentence\n",
        "\n",
        "sentence = \"Artificial Intelligence is transforming the world\"\n",
        "encoded_sentence = tokenizer.encode(sentence)\n",
        "decoded_sentence = tokenizer.decode(encoded_sentence)\n",
        "\n",
        "print(f\"\\n Original Sentence :{sentence}\")\n",
        "print(f\"\\n Encoded Sentence : {encoded_sentence}\")\n",
        "print(f\"\\n Decoded Sentence :{decoded_sentence}\")"
      ],
      "metadata": {
        "colab": {
          "base_uri": "https://localhost:8080/"
        },
        "id": "eqx5u_A3vdWU",
        "outputId": "111be9a7-fc9c-469f-a3b9-46b9eeb3bb3b"
      },
      "execution_count": 7,
      "outputs": [
        {
          "output_type": "stream",
          "name": "stdout",
          "text": [
            "\n",
            " Original Sentence :Artificial Intelligence is transforming the world\n",
            "\n",
            " Encoded Sentence : [3012, 928, 616, 3159, 28286, 338, 4327, 292, 278, 3186]\n",
            "\n",
            " Decoded Sentence :Artificial Intelligence is transforming the world\n"
          ]
        }
      ]
    },
    {
      "cell_type": "code",
      "source": [
        "# Encode the sentence to get token ids\n",
        "\n",
        "encoded_sentence = tokenizer.encode(sentence)\n",
        "\n",
        "# decode for each token id to respective token\n",
        "\n",
        "tokens = [tokenizer.decode([token_id]) for token_id in encoded_sentence]\n",
        "\n",
        "#create a mapping of token IDs to tokens\n",
        "token_id_map = list(zip(encoded_sentence,tokens))\n",
        "\n",
        "#print the token IDs and their corresponding tokens\n",
        "for token_id,token in token_id_map:\n",
        "    print(f\"Token ID: {token_id}, Token: '{token}'\")"
      ],
      "metadata": {
        "colab": {
          "base_uri": "https://localhost:8080/"
        },
        "id": "9mcpWI6bvdSs",
        "outputId": "a85fab7d-4261-4fa6-aa2d-ae9b6d693855"
      },
      "execution_count": 10,
      "outputs": [
        {
          "output_type": "stream",
          "name": "stdout",
          "text": [
            "Token ID: 3012, Token: 'Art'\n",
            "Token ID: 928, Token: 'ific'\n",
            "Token ID: 616, Token: 'ial'\n",
            "Token ID: 3159, Token: 'Int'\n",
            "Token ID: 28286, Token: 'elligence'\n",
            "Token ID: 338, Token: 'is'\n",
            "Token ID: 4327, Token: 'transform'\n",
            "Token ID: 292, Token: 'ing'\n",
            "Token ID: 278, Token: 'the'\n",
            "Token ID: 3186, Token: 'world'\n"
          ]
        }
      ]
    },
    {
      "cell_type": "code",
      "source": [],
      "metadata": {
        "id": "qGpuMKJ7xZ5E"
      },
      "execution_count": null,
      "outputs": []
    },
    {
      "cell_type": "code",
      "source": [
        "from transformers import pipeline\n",
        "\n",
        "generator = pipeline(\n",
        "    \"text-generation\",\n",
        "    model = model,\n",
        "    tokenizer = tokenizer,\n",
        "    return_full_text = False,\n",
        "    max_new_tokens = 500,\n",
        "    do_sample = False,\n",
        ")"
      ],
      "metadata": {
        "colab": {
          "base_uri": "https://localhost:8080/"
        },
        "id": "ryOVEQGSxZ1r",
        "outputId": "4a96fe1e-ae30-488c-f987-3992f08f8534"
      },
      "execution_count": 13,
      "outputs": [
        {
          "output_type": "stream",
          "name": "stderr",
          "text": [
            "Device set to use cuda\n"
          ]
        }
      ]
    },
    {
      "cell_type": "code",
      "source": [
        "messages = [\n",
        "    {\"role\":\"system\",\"content\":\"you are a maths tutor\"},\n",
        "    {\"role\":\"user\",\"content\":\"what is gradient\"}\n",
        "]"
      ],
      "metadata": {
        "id": "UO-tvSy6xZv3"
      },
      "execution_count": 14,
      "outputs": []
    },
    {
      "cell_type": "code",
      "source": [
        "output = generator(messages)\n",
        "print(output)"
      ],
      "metadata": {
        "colab": {
          "base_uri": "https://localhost:8080/"
        },
        "id": "ikodBMzuxZsb",
        "outputId": "c8de0645-46a4-4600-af6a-a64e91970c7e"
      },
      "execution_count": 15,
      "outputs": [
        {
          "output_type": "stream",
          "name": "stderr",
          "text": [
            "The `seen_tokens` attribute is deprecated and will be removed in v4.41. Use the `cache_position` model input instead.\n",
            "`get_max_cache()` is deprecated for all Cache classes. Use `get_max_cache_shape()` instead. Calling `get_max_cache()` will raise error from v4.48\n",
            "WARNING:transformers_modules.microsoft.Phi-3-mini-4k-instruct.0a67737cc96d2554230f90338b163bc6380a2a85.modeling_phi3:You are not running the flash-attention implementation, expect numerical differences.\n"
          ]
        },
        {
          "output_type": "stream",
          "name": "stdout",
          "text": [
            "[{'generated_text': ' The gradient in mathematics refers to the slope of a line, which is a measure of how steep the line is. It is calculated as the change in the y-coordinate divided by the change in the x-coordinate between two points on the line. The formula for the gradient (m) between two points (x1, y1) and (x2, y2) is:\\n\\n\\nm = (y2 - y1) / (x2 - x1)\\n\\n\\nIf the gradient is positive, the line slopes upward from left to right. If the gradient is negative, the line slopes downward from left to right. A gradient of zero indicates a horizontal line, and an undefined gradient (where the denominator is zero) indicates a vertical line.'}]\n"
          ]
        }
      ]
    },
    {
      "cell_type": "code",
      "source": [
        "print(output[0]['generated_text'])"
      ],
      "metadata": {
        "colab": {
          "base_uri": "https://localhost:8080/"
        },
        "id": "C49KfDBYztXL",
        "outputId": "65dc1dd4-f02e-4779-86f5-caf48c85c761"
      },
      "execution_count": 16,
      "outputs": [
        {
          "output_type": "stream",
          "name": "stdout",
          "text": [
            " The gradient in mathematics refers to the slope of a line, which is a measure of how steep the line is. It is calculated as the change in the y-coordinate divided by the change in the x-coordinate between two points on the line. The formula for the gradient (m) between two points (x1, y1) and (x2, y2) is:\n",
            "\n",
            "\n",
            "m = (y2 - y1) / (x2 - x1)\n",
            "\n",
            "\n",
            "If the gradient is positive, the line slopes upward from left to right. If the gradient is negative, the line slopes downward from left to right. A gradient of zero indicates a horizontal line, and an undefined gradient (where the denominator is zero) indicates a vertical line.\n"
          ]
        }
      ]
    },
    {
      "cell_type": "code",
      "source": [],
      "metadata": {
        "id": "U65Z-t97ztTs"
      },
      "execution_count": null,
      "outputs": []
    },
    {
      "cell_type": "code",
      "source": [],
      "metadata": {
        "id": "c1WgcnzeztPM"
      },
      "execution_count": null,
      "outputs": []
    },
    {
      "cell_type": "code",
      "source": [],
      "metadata": {
        "id": "RRlSDjYfztK-"
      },
      "execution_count": null,
      "outputs": []
    },
    {
      "cell_type": "code",
      "source": [],
      "metadata": {
        "id": "Whc6WP3vz0Rm"
      },
      "execution_count": null,
      "outputs": []
    }
  ]
}